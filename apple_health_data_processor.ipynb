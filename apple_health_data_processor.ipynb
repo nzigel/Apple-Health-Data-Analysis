{
 "cells": [
  {
   "cell_type": "code",
   "execution_count": null,
   "id": "1ea465e7-ed13-4690-8ffa-9490da62651c",
   "metadata": {},
   "outputs": [],
   "source": [
    "from datetime import date, datetime, timedelta as td\n",
    "import pytz\n",
    "import numpy as np\n",
    "import pandas as pd\n",
    "import matplotlib.pyplot as plt\n",
    "%matplotlib inline"
   ]
  },
  {
   "cell_type": "code",
   "execution_count": null,
   "id": "dd785bcb-25da-447f-9968-b5668d738e4b",
   "metadata": {},
   "outputs": [],
   "source": [
    "# functions to convert UTC to Pacific time zone and extract date/time elements\n",
    "convert_tz = lambda x: x.to_pydatetime().replace(tzinfo=pytz.utc).astimezone(pytz.timezone('US/Pacific'))\n",
    "get_year = lambda x: convert_tz(x).year\n",
    "get_month = lambda x: '{}-{:02}'.format(convert_tz(x).year, convert_tz(x).month) #inefficient\n",
    "get_date = lambda x: '{}-{:02}-{:02}'.format(convert_tz(x).year, convert_tz(x).month, convert_tz(x).day) #inefficient\n",
    "get_day = lambda x: convert_tz(x).day\n",
    "get_hour = lambda x: convert_tz(x).hour\n",
    "get_minute = lambda x: convert_tz(x).minute\n",
    "get_day_of_week = lambda x: convert_tz(x).weekday()"
   ]
  },
  {
   "cell_type": "code",
   "execution_count": null,
   "id": "9a90fb30-0fc4-47b2-a992-14efb60ce8d6",
   "metadata": {},
   "outputs": [],
   "source": [
    "steps = pd.read_csv(\"StepCount.csv\")"
   ]
  },
  {
   "cell_type": "code",
   "execution_count": null,
   "id": "97934b7c-9eb5-4b79-af35-ff916b03e4f6",
   "metadata": {},
   "outputs": [],
   "source": [
    "# parse out date and time elements as Pacific time\n",
    "steps['startDate'] = pd.to_datetime(steps['startDate'])\n",
    "steps['year'] = steps['startDate'].map(get_year)\n",
    "steps['month'] = steps['startDate'].map(get_month)\n",
    "steps['date'] = steps['startDate'].map(get_date)\n",
    "steps['day'] = steps['startDate'].map(get_day)\n",
    "steps['hour'] = steps['startDate'].map(get_hour)\n",
    "steps['dow'] = steps['startDate'].map(get_day_of_week)"
   ]
  },
  {
   "cell_type": "code",
   "execution_count": null,
   "id": "6d2bc11a-fd2a-42ec-8728-ba9cc3b3461c",
   "metadata": {},
   "outputs": [],
   "source": [
    "steps.tail(10)"
   ]
  },
  {
   "cell_type": "code",
   "execution_count": null,
   "id": "01a063b0-ae63-4b49-a5c2-89d1e6184463",
   "metadata": {},
   "outputs": [],
   "source": [
    "steps_by_date = steps.groupby(['date'])['value'].sum().reset_index(name='Steps')"
   ]
  },
  {
   "cell_type": "code",
   "execution_count": null,
   "id": "8e3d71bc-6256-49bc-b396-91667bce3c88",
   "metadata": {},
   "outputs": [],
   "source": [
    "steps_by_date.tail()"
   ]
  },
  {
   "cell_type": "code",
   "execution_count": null,
   "id": "99252fc3-708e-4b7e-a166-79712deb6d9a",
   "metadata": {},
   "outputs": [],
   "source": [
    "steps_by_date.to_csv(\"steps_per_day.csv\", index=False)"
   ]
  },
  {
   "cell_type": "code",
   "execution_count": null,
   "id": "6af9a77f-1f1a-4ae7-bd38-922f4675de8e",
   "metadata": {},
   "outputs": [],
   "source": [
    "steps_device_by_year = steps.groupby(['year', 'sourceName'])['value'].sum().reset_index(name='Steps')"
   ]
  },
  {
   "cell_type": "code",
   "execution_count": null,
   "id": "5a6407be-398b-4495-af9d-7dbb1327a3b4",
   "metadata": {},
   "outputs": [],
   "source": [
    "steps_device_by_year"
   ]
  },
  {
   "cell_type": "code",
   "execution_count": null,
   "id": "912aeaf1-627f-4ef4-ae3b-1645fc01612f",
   "metadata": {},
   "outputs": [],
   "source": [
    "steps_device_by_year = steps.groupby(['year'])['value'].sum().reset_index(name='Steps')"
   ]
  },
  {
   "cell_type": "code",
   "execution_count": null,
   "id": "08fb5614-78ad-449f-8451-b2a76ea06e99",
   "metadata": {},
   "outputs": [],
   "source": [
    "steps_device_by_year"
   ]
  },
  {
   "cell_type": "code",
   "execution_count": null,
   "id": "0b7d0a97-f239-483e-b900-82bd44808ab1",
   "metadata": {},
   "outputs": [],
   "source": [
    "steps_by_date['RollingMeanSteps'] = steps_by_date.Steps.rolling(window=10, center=True).mean()\n",
    "steps_by_date.plot(x='date', y='RollingMeanSteps', title= 'Daily step counts rolling mean over 10 days', figsize=[10, 6])"
   ]
  },
  {
   "cell_type": "code",
   "execution_count": null,
   "id": "3926c80b-7dbc-4153-8f39-164aba437052",
   "metadata": {},
   "outputs": [],
   "source": [
    "steps_by_date['date'] = pd.to_datetime(steps_by_date['date'])\n",
    "steps_by_date['dow'] = steps_by_date['date'].dt.weekday"
   ]
  },
  {
   "cell_type": "code",
   "execution_count": null,
   "id": "0d0c0cbb-dc08-41f2-93ac-a76fe1a60f1c",
   "metadata": {},
   "outputs": [],
   "source": [
    "data = steps_by_date.groupby(['dow'])['Steps'].mean()\n",
    "\n",
    "fig, ax = plt.subplots(figsize=[10, 6])\n",
    "ax = data.plot(kind='bar', x='day_of_week')\n",
    "\n",
    "n_groups = len(data)\n",
    "index = np.arange(n_groups)\n",
    "opacity = 0.75\n",
    "\n",
    "#fig, ax = plt.subplots(figsize=[10, 6])\n",
    "ax.yaxis.grid(True)\n",
    "\n",
    "plt.suptitle('Average Steps by Day of the Week', fontsize=16)\n",
    "dow_labels = ['Monday', 'Tuesday', 'Wednesday', 'Thursday', 'Friday', 'Saturday', 'Sunday']\n",
    "plt.xticks(index, dow_labels, rotation=45)\n",
    "plt.xlabel('Day of Week', fontsize=12, color='red')"
   ]
  },
  {
   "cell_type": "code",
   "execution_count": null,
   "id": "f5a2b8cc-ce45-4856-8b05-c3adee397f9c",
   "metadata": {},
   "outputs": [],
   "source": [
    "total_steps_by_month = steps.groupby(['month'])['value'].sum().reset_index(name='Steps')"
   ]
  },
  {
   "cell_type": "code",
   "execution_count": null,
   "id": "390aadcf-1d12-45e5-9da5-faaeea22ad58",
   "metadata": {},
   "outputs": [],
   "source": [
    "total_steps_by_month"
   ]
  },
  {
   "cell_type": "code",
   "execution_count": null,
   "id": "67e28e7a-5fd1-4990-841a-cd53027f0617",
   "metadata": {},
   "outputs": [],
   "source": [
    "# a bit of a hackish solution, could use improvement\n",
    "dataset = total_steps_by_month\n",
    "chart_title = 'Number of Steps per month'\n",
    "\n",
    "n_groups = len(dataset)\n",
    "index = np.arange(n_groups)\n",
    "\n",
    "ax = dataset.plot(kind='line', figsize=[20, 5], linewidth=4, alpha=1, marker='o', color='#6684c1', \n",
    "                      markeredgecolor='#6684c1', markerfacecolor='w', markersize=8, markeredgewidth=2)\n",
    "\n",
    "# ax.set_xlim((year_counts.index[0], year_counts.index[-1]))\n",
    "\n",
    "ax.yaxis.grid(True)\n",
    "ax.xaxis.grid(True)\n",
    "# ax.set_ylim(0, 1000)\n",
    "ax.set_xticks(index)\n",
    "ax.set_ylabel('Step Count')\n",
    "# ax.set_xlabel('')\n",
    "plt.xticks(index, dataset.month, rotation=90)\n",
    "ax.set_title(chart_title)\n",
    "\n",
    "plt.show()"
   ]
  },
  {
   "cell_type": "code",
   "execution_count": null,
   "id": "0941edfd-5f79-4a5a-a084-ddbce39276be",
   "metadata": {},
   "outputs": [],
   "source": [
    "total_steps_by_years = steps.groupby(['year'])['value'].sum().reset_index(name='Steps')"
   ]
  },
  {
   "cell_type": "code",
   "execution_count": null,
   "id": "a467cc45-b8dc-4563-a0d0-84836b558f2e",
   "metadata": {},
   "outputs": [],
   "source": [
    "total_steps_by_years"
   ]
  },
  {
   "cell_type": "code",
   "execution_count": null,
   "id": "c7ac673a-0577-41e9-9040-83e752395bcd",
   "metadata": {},
   "outputs": [],
   "source": [
    "dataset = total_steps_by_years\n",
    "\n",
    "n_groups = len(dataset)\n",
    "opacity = 0.5\n",
    "fig, ax = plt.subplots(figsize=[10, 6])\n",
    "ax.yaxis.grid(True)\n",
    "index = np.arange(n_groups)\n",
    "bar_width = 0.4\n",
    "\n",
    "data = plt.bar(index, dataset.Steps, bar_width,\n",
    "                 alpha=opacity,\n",
    "                 color='c',\n",
    "                 label='Steps')\n",
    "\n",
    "data[-1].set_color('r')\n",
    "\n",
    "plt.ylabel('Steps')\n",
    "plt.title('Total Steps Per Year')\n",
    "plt.xticks(index, dataset.year, rotation=45)\n",
    "plt.legend()\n",
    "\n",
    "plt.tight_layout()\n",
    "plt.show()"
   ]
  },
  {
   "cell_type": "code",
   "execution_count": null,
   "id": "8e16d2dc-0f31-4887-886d-b13d3782c58b",
   "metadata": {},
   "outputs": [],
   "source": [
    "hour_steps = steps.groupby(['hour'])['value'].sum().reset_index(name='Steps')"
   ]
  },
  {
   "cell_type": "code",
   "execution_count": null,
   "id": "d34716aa-4ffc-434d-98cd-90163942b868",
   "metadata": {},
   "outputs": [],
   "source": [
    "ax = hour_steps.Steps.plot(kind='line', figsize=[10, 5], linewidth=4, alpha=1, marker='o', color='#6684c1', \n",
    "                      markeredgecolor='#6684c1', markerfacecolor='w', markersize=8, markeredgewidth=2)\n",
    "\n",
    "xlabels = hour_steps.index.map(lambda x: '{:02}:00'.format(x))\n",
    "ax.set_xticks(range(len(xlabels)))\n",
    "ax.set_xticklabels(xlabels, rotation=45, rotation_mode='anchor', ha='right')\n",
    "\n",
    "# ax.set_xlim((hour_steps.index[0], hour_steps.index[-1]))\n",
    "\n",
    "ax.yaxis.grid(True)\n",
    "# ax.set_ylim((0, 1300))\n",
    "ax.set_ylabel('Steps')\n",
    "ax.set_xlabel('')\n",
    "ax.set_title('Steps by hour the day')\n",
    "\n",
    "plt.show()"
   ]
  },
  {
   "cell_type": "code",
   "execution_count": null,
   "id": "353af996-00f1-4e95-a672-b7b68943aad3",
   "metadata": {},
   "outputs": [],
   "source": [
    "weight = pd.read_csv(\"BodyMass.csv\")"
   ]
  },
  {
   "cell_type": "code",
   "execution_count": null,
   "id": "4d2a2f63-6fbc-42d8-9a1f-159785379762",
   "metadata": {},
   "outputs": [],
   "source": [
    "weight"
   ]
  },
  {
   "cell_type": "code",
   "execution_count": null,
   "id": "9b5385be-a4c7-4129-95b7-bf4dfb6fcdb0",
   "metadata": {},
   "outputs": [],
   "source": [
    "resting = pd.read_csv(\"RestingHeartRate.csv\")\n",
    "len(resting)"
   ]
  },
  {
   "cell_type": "code",
   "execution_count": null,
   "id": "abc16f2a-4023-4092-913e-60a3e769794c",
   "metadata": {},
   "outputs": [],
   "source": [
    "# parse out date and time elements as Pacific time\n",
    "resting['startDate'] = pd.to_datetime(resting['startDate'])\n",
    "resting['year'] = resting['startDate'].map(get_year)\n",
    "resting['month'] = resting['startDate'].map(get_month)\n",
    "resting['date'] = resting['startDate'].map(get_date)"
   ]
  },
  {
   "cell_type": "code",
   "execution_count": null,
   "id": "36e83e39-1cbb-4bc1-9d5d-0f2386254b37",
   "metadata": {},
   "outputs": [],
   "source": [
    "resting[resting.month == '2022-01'].plot(x='date', y='value', title= 'Resting HR', figsize=[10, 6])"
   ]
  },
  {
   "cell_type": "code",
   "execution_count": null,
   "id": "d1bb0ca3-50a8-4efe-a861-0c157896243f",
   "metadata": {},
   "outputs": [],
   "source": [
    "resting[resting.month == '2021-06'].plot(x='date', y='value', title= 'Resting HR', figsize=[10, 6])"
   ]
  },
  {
   "cell_type": "code",
   "execution_count": null,
   "id": "b4b93ee0-34c5-4f09-8a50-ef99c1be03e8",
   "metadata": {},
   "outputs": [],
   "source": [
    "hr = pd.read_csv(\"HeartRate.csv\")\n",
    "len(hr)"
   ]
  },
  {
   "cell_type": "code",
   "execution_count": null,
   "id": "6ac7d366-5164-47f5-9c2a-8e6b62b1ede6",
   "metadata": {},
   "outputs": [],
   "source": [
    "# parse out date and time elements as Pacific time\n",
    "hr['startDate'] = pd.to_datetime(hr['startDate'])\n",
    "hr['year'] = hr['startDate'].map(get_year)\n",
    "hr['month'] = hr['startDate'].map(get_month)\n",
    "hr['hour'] = hr['startDate'].map(get_hour)\n",
    "hr['date'] = hr['startDate'].map(get_date)"
   ]
  },
  {
   "cell_type": "code",
   "execution_count": null,
   "id": "24f4a7ad-7c44-4430-b79c-b2899a0db47d",
   "metadata": {},
   "outputs": [],
   "source": [
    "# plot a single day\n",
    "test_date = '2023-09-18'\n",
    "# len(hr[hr.date == test_date])\n",
    "# TODO: Fix Axis for Hour of Day or Something Similar\n",
    "hr[hr.date == test_date].plot(x='startDate', y='value', title= 'HR', figsize=[10, 6])"
   ]
  },
  {
   "cell_type": "code",
   "execution_count": null,
   "id": "707e54f4-fd88-4cd2-b377-cfdab2185ddb",
   "metadata": {},
   "outputs": [],
   "source": [
    "sleep_raw = pd.read_csv(\"SleepAnalysis.csv\")"
   ]
  },
  {
   "cell_type": "code",
   "execution_count": null,
   "id": "ea590e43-1f23-4fcd-89fd-7d2a36f60003",
   "metadata": {},
   "outputs": [],
   "source": [
    "sleep_raw.tail()"
   ]
  },
  {
   "cell_type": "code",
   "execution_count": null,
   "id": "59ce4ca3-9eaa-4870-98c2-817432964ba3",
   "metadata": {},
   "outputs": [],
   "source": [
    "distance_walking_running = pd.read_csv(\"DistanceWalkingRunning.csv\")"
   ]
  },
  {
   "cell_type": "code",
   "execution_count": null,
   "id": "a6ab409d-932e-4b56-bb0e-bba1a90dba3b",
   "metadata": {},
   "outputs": [],
   "source": [
    "distance_walking_running.tail()"
   ]
  },
  {
   "cell_type": "code",
   "execution_count": null,
   "id": "7608ffb1-e646-42cb-adaa-ecef32bee543",
   "metadata": {},
   "outputs": [],
   "source": [
    "distance_walking_running['startDate'] = pd.to_datetime(hr['startDate'])\n",
    "distance_walking_running['year'] = hr['startDate'].map(get_year)\n",
    "distance_walking_running['month'] = hr['startDate'].map(get_month)\n",
    "distance_walking_running['hour'] = hr['startDate'].map(get_hour)\n",
    "distance_walking_running['date'] = hr['startDate'].map(get_date)"
   ]
  },
  {
   "cell_type": "code",
   "execution_count": null,
   "id": "791111c3-9e86-4f25-b7aa-13c8608cf978",
   "metadata": {},
   "outputs": [],
   "source": [
    "# plot a single day\n",
    "test_date = '2023-09-17'\n",
    "# len(hr[hr.date == test_date])\n",
    "# TODO: Fix Axis for Hour of Day or Something Similar\n",
    "distance_walking_running[distance_walking_running.date == test_date].plot(x='startDate', y='value', title= 'distance_walking_running', figsize=[10, 6])"
   ]
  },
  {
   "cell_type": "code",
   "execution_count": null,
   "id": "4c517e85-d238-4a16-a7f2-ee369a717581",
   "metadata": {},
   "outputs": [],
   "source": []
  }
 ],
 "metadata": {
  "kernelspec": {
   "display_name": "Python 3 (ipykernel)",
   "language": "python",
   "name": "python3"
  },
  "language_info": {
   "codemirror_mode": {
    "name": "ipython",
    "version": 3
   },
   "file_extension": ".py",
   "mimetype": "text/x-python",
   "name": "python",
   "nbconvert_exporter": "python",
   "pygments_lexer": "ipython3",
   "version": "3.11.3"
  }
 },
 "nbformat": 4,
 "nbformat_minor": 5
}
